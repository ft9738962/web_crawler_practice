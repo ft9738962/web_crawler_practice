{
 "cells": [
  {
   "cell_type": "code",
   "execution_count": 14,
   "metadata": {},
   "outputs": [],
   "source": [
    "import requests\n",
    "from requests.exceptions import RequestException\n",
    "import re, json, time"
   ]
  },
  {
   "cell_type": "code",
   "execution_count": 17,
   "metadata": {},
   "outputs": [],
   "source": [
    "def get_one_page(url):\n",
    "    try:\n",
    "        headers = {\n",
    "            'User-Agent': 'Mozilla/5.0 (Windows NT 10.0; WOW64) AppleWebKit/537.36 \\\n",
    "            (KHTML, like Gecko) Chrome/63.0.3239.26 Safari/537.36 Core/1.63.6788.400 \\\n",
    "            QQBrowser/10.3.2727.400'\n",
    "        }\n",
    "        response = requests.get(url, headers=headers)\n",
    "        if response.status_code == 200:\n",
    "            return response.text\n",
    "        return None\n",
    "    except RequestException:\n",
    "        return None\n",
    "\n",
    "def parse_one_page(html):\n",
    "    pattern = re.compile('<dd>.*?board-index.*?>(.*?)</i>.*?data-src=\"(.*?)\".*?name.*?a.*?>(.*?)</a>.*?star.*?>(.*?)</p>.*?releasetime.*?>(.*?)</p>.*?integer.*?>(.*?)</i>.*?fraction.*?>(.*?)</i>.*?</dd>', re.S)\n",
    "    items = re.findall(pattern, html)\n",
    "    #print(items)\n",
    "    return items\n",
    "    \n",
    "def write_to_file(content):\n",
    "    with open('result.txt', 'a', encoding='utf-8') as f:\n",
    "        #print(type(json.dumps(content)))\n",
    "        f.write(json.dumps(content, ensure_ascii=False) + '\\n')\n",
    "    \n",
    "def main(offset):\n",
    "    url = 'http://maoyan.com/board/4?offset=' + str(offset)\n",
    "    html = get_one_page(url)\n",
    "    for item in parse_one_page(html):\n",
    "        write_to_file(item)\n",
    "\n",
    "if __name__ == '__main__':\n",
    "    for i in range(10):\n",
    "        main(offset = i * 10)\n",
    "        time.sleep(1)"
   ]
  },
  {
   "cell_type": "code",
   "execution_count": 4,
   "metadata": {},
   "outputs": [],
   "source": []
  },
  {
   "cell_type": "code",
   "execution_count": 5,
   "metadata": {},
   "outputs": [],
   "source": []
  },
  {
   "cell_type": "code",
   "execution_count": null,
   "metadata": {},
   "outputs": [],
   "source": []
  }
 ],
 "metadata": {
  "kernelspec": {
   "display_name": "Python 3",
   "language": "python",
   "name": "python3"
  },
  "language_info": {
   "codemirror_mode": {
    "name": "ipython",
    "version": 3
   },
   "file_extension": ".py",
   "mimetype": "text/x-python",
   "name": "python",
   "nbconvert_exporter": "python",
   "pygments_lexer": "ipython3",
   "version": "3.6.7"
  }
 },
 "nbformat": 4,
 "nbformat_minor": 2
}
